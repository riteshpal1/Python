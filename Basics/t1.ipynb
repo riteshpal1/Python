{
 "cells": [
  {
   "cell_type": "code",
   "execution_count": 11,
   "metadata": {},
   "outputs": [
    {
     "ename": "Terminator",
     "evalue": "",
     "output_type": "error",
     "traceback": [
      "\u001b[1;31m---------------------------------------------------------------------------\u001b[0m",
      "\u001b[1;31mTerminator\u001b[0m                                Traceback (most recent call last)",
      "\u001b[1;32mc:\\Users\\MY PC\\Documents\\Python\\Basics\\t1.ipynb Cell 1\u001b[0m in \u001b[0;36m<cell line: 19>\u001b[1;34m()\u001b[0m\n\u001b[0;32m     <a href='vscode-notebook-cell:/c%3A/Users/MY%20PC/Documents/Python/Basics/t1.ipynb#W0sZmlsZQ%3D%3D?line=16'>17</a>\u001b[0m left(\u001b[39m90\u001b[39m)\n\u001b[0;32m     <a href='vscode-notebook-cell:/c%3A/Users/MY%20PC/Documents/Python/Basics/t1.ipynb#W0sZmlsZQ%3D%3D?line=17'>18</a>\u001b[0m mainloop()\n\u001b[1;32m---> <a href='vscode-notebook-cell:/c%3A/Users/MY%20PC/Documents/Python/Basics/t1.ipynb#W0sZmlsZQ%3D%3D?line=18'>19</a>\u001b[0m mainloop()\n",
      "File \u001b[1;32m<string>:5\u001b[0m, in \u001b[0;36mmainloop\u001b[1;34m()\u001b[0m\n",
      "\u001b[1;31mTerminator\u001b[0m: "
     ]
    }
   ],
   "source": [
    "from turtle import *\n",
    "\n",
    "speed('slowest')\n",
    "pencolor('red')\n",
    "\n",
    "forward(150)\n",
    "left(90)\n",
    "forward(150)\n",
    "left(90)\n",
    "forward(150)\n",
    "left(90)\n",
    "forward(150)\n",
    "left(90)\n",
    "forward(150)\n",
    "left(90)\n",
    "forward(150)\n",
    "left(90)\n",
    "mainloop()\n",
    "mainloop()"
   ]
  },
  {
   "cell_type": "code",
   "execution_count": null,
   "metadata": {},
   "outputs": [],
   "source": []
  }
 ],
 "metadata": {
  "kernelspec": {
   "display_name": "Python 3.9.12 ('base')",
   "language": "python",
   "name": "python3"
  },
  "language_info": {
   "codemirror_mode": {
    "name": "ipython",
    "version": 3
   },
   "file_extension": ".py",
   "mimetype": "text/x-python",
   "name": "python",
   "nbconvert_exporter": "python",
   "pygments_lexer": "ipython3",
   "version": "3.9.12"
  },
  "orig_nbformat": 4,
  "vscode": {
   "interpreter": {
    "hash": "19d1d53a962d236aa061289c2ac16dc8e6d9648c89fe79f459ae9a3493bc67b4"
   }
  }
 },
 "nbformat": 4,
 "nbformat_minor": 2
}
