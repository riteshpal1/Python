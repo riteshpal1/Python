{
 "cells": [
  {
   "cell_type": "code",
   "execution_count": 2,
   "metadata": {},
   "outputs": [],
   "source": [
    "from turtle import *\n",
    "speed(0)\n",
    "side = 6\n",
    "size = 150\n",
    "pensize(5)\n",
    "for i in range(side):\n",
    "  pencolor('red')\n",
    "  forward(size)\n",
    "  for i in range(6):\n",
    "    pencolor('blue')\n",
    "    forward(75)\n",
    "    pencolor('red')\n",
    "    circle(25)\n",
    "    pencolor('blue')\n",
    "    left(360/6)\n",
    "    write(i, font=('Arial', 14, 'normal'))\n",
    "  left(360/side)\n",
    "\n",
    "mainloop()"
   ]
  },
  {
   "cell_type": "code",
   "execution_count": null,
   "metadata": {},
   "outputs": [],
   "source": []
  }
 ],
 "metadata": {
  "kernelspec": {
   "display_name": "Python 3.9.12 ('base')",
   "language": "python",
   "name": "python3"
  },
  "language_info": {
   "codemirror_mode": {
    "name": "ipython",
    "version": 3
   },
   "file_extension": ".py",
   "mimetype": "text/x-python",
   "name": "python",
   "nbconvert_exporter": "python",
   "pygments_lexer": "ipython3",
   "version": "3.9.12"
  },
  "orig_nbformat": 4,
  "vscode": {
   "interpreter": {
    "hash": "19d1d53a962d236aa061289c2ac16dc8e6d9648c89fe79f459ae9a3493bc67b4"
   }
  }
 },
 "nbformat": 4,
 "nbformat_minor": 2
}
