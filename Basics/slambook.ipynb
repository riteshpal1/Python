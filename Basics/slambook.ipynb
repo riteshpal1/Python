{
 "cells": [
  {
   "cell_type": "code",
   "execution_count": 8,
   "metadata": {},
   "outputs": [],
   "source": [
    "name = input(\"Who are you?\")\n",
    "city = input(\"Where do you live?\")\n",
    "age = input(\"How old are you?\")\n",
    "Hobby = input(\"What is your hobby?\")\n",
    "Movie = input(\"What is your favorite movie?\")\n",
    "food = input(\"What is your favorite food?\")\n",
    "\n"
   ]
  },
  {
   "cell_type": "code",
   "execution_count": 9,
   "metadata": {},
   "outputs": [
    {
     "name": "stdout",
     "output_type": "stream",
     "text": [
      "-------YOUR DETAILS FILLED BY YOU-------\n",
      "Name: aman\n",
      "City: hardoi\n",
      "Age: 18\n"
     ]
    },
    {
     "ename": "NameError",
     "evalue": "name 'hobby' is not defined",
     "output_type": "error",
     "traceback": [
      "\u001b[1;31m---------------------------------------------------------------------------\u001b[0m",
      "\u001b[1;31mNameError\u001b[0m                                 Traceback (most recent call last)",
      "\u001b[1;32mc:\\Users\\MY PC\\Documents\\Python\\Basics\\slambook.ipynb Cell 2\u001b[0m in \u001b[0;36m<cell line: 6>\u001b[1;34m()\u001b[0m\n\u001b[0;32m      <a href='vscode-notebook-cell:/c%3A/Users/MY%20PC/Documents/Python/Basics/slambook.ipynb#X12sZmlsZQ%3D%3D?line=3'>4</a>\u001b[0m \u001b[39mprint\u001b[39m(\u001b[39m\"\u001b[39m\u001b[39mCity:\u001b[39m\u001b[39m\"\u001b[39m, city)\n\u001b[0;32m      <a href='vscode-notebook-cell:/c%3A/Users/MY%20PC/Documents/Python/Basics/slambook.ipynb#X12sZmlsZQ%3D%3D?line=4'>5</a>\u001b[0m \u001b[39mprint\u001b[39m(\u001b[39m\"\u001b[39m\u001b[39mAge:\u001b[39m\u001b[39m\"\u001b[39m, age)\n\u001b[1;32m----> <a href='vscode-notebook-cell:/c%3A/Users/MY%20PC/Documents/Python/Basics/slambook.ipynb#X12sZmlsZQ%3D%3D?line=5'>6</a>\u001b[0m \u001b[39mprint\u001b[39m(\u001b[39m\"\u001b[39m\u001b[39mHobby:\u001b[39m\u001b[39m\"\u001b[39m, hobby)\n\u001b[0;32m      <a href='vscode-notebook-cell:/c%3A/Users/MY%20PC/Documents/Python/Basics/slambook.ipynb#X12sZmlsZQ%3D%3D?line=6'>7</a>\u001b[0m \u001b[39mprint\u001b[39m(\u001b[39m\"\u001b[39m\u001b[39mMovie:\u001b[39m\u001b[39m\"\u001b[39m, movie)\n\u001b[0;32m      <a href='vscode-notebook-cell:/c%3A/Users/MY%20PC/Documents/Python/Basics/slambook.ipynb#X12sZmlsZQ%3D%3D?line=7'>8</a>\u001b[0m \u001b[39mprint\u001b[39m(\u001b[39m\"\u001b[39m\u001b[39mFood:\u001b[39m\u001b[39m\"\u001b[39m, food)\n",
      "\u001b[1;31mNameError\u001b[0m: name 'hobby' is not defined"
     ]
    }
   ],
   "source": [
    "print(\"-------YOUR DETAILS FILLED BY YOU-------\")\n",
    "\n",
    "print(\"Name:\", name)\n",
    "print(\"City:\", city)\n",
    "print(\"Age:\", age)\n",
    "print(\"Hobby:\", hobby)\n",
    "print(\"Movie:\", movie)\n",
    "print(\"Food:\", food)\n",
    "print(\"-------THE END-------\")"
   ]
  },
  {
   "cell_type": "code",
   "execution_count": null,
   "metadata": {},
   "outputs": [],
   "source": []
  }
 ],
 "metadata": {
  "kernelspec": {
   "display_name": "Python 3.9.12 ('base')",
   "language": "python",
   "name": "python3"
  },
  "language_info": {
   "codemirror_mode": {
    "name": "ipython",
    "version": 3
   },
   "file_extension": ".py",
   "mimetype": "text/x-python",
   "name": "python",
   "nbconvert_exporter": "python",
   "pygments_lexer": "ipython3",
   "version": "3.9.12"
  },
  "orig_nbformat": 4,
  "vscode": {
   "interpreter": {
    "hash": "19d1d53a962d236aa061289c2ac16dc8e6d9648c89fe79f459ae9a3493bc67b4"
   }
  }
 },
 "nbformat": 4,
 "nbformat_minor": 2
}
