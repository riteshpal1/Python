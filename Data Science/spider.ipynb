{
 "cells": [
  {
   "cell_type": "code",
   "execution_count": 2,
   "metadata": {},
   "outputs": [],
   "source": [
    "from dputils import scrape"
   ]
  },
  {
   "cell_type": "code",
   "execution_count": 25,
   "metadata": {},
   "outputs": [],
   "source": [
    "soup = scrape.get_webpage_data('https://www.ndtv.com/latest')"
   ]
  },
  {
   "cell_type": "markdown",
   "metadata": {},
   "source": [
    "# To Check the title with tag."
   ]
  },
  {
   "cell_type": "code",
   "execution_count": 26,
   "metadata": {},
   "outputs": [
    {
     "data": {
      "text/plain": [
       "<title>Latest News: Today's big news headlines from India and around the world - NDTV.com</title>"
      ]
     },
     "execution_count": 26,
     "metadata": {},
     "output_type": "execute_result"
    }
   ],
   "source": [
    "soup.title"
   ]
  },
  {
   "cell_type": "markdown",
   "metadata": {},
   "source": [
    "# To Check the title without tag."
   ]
  },
  {
   "cell_type": "code",
   "execution_count": 27,
   "metadata": {},
   "outputs": [
    {
     "data": {
      "text/plain": [
       "\"Latest News: Today's big news headlines from India and around the world - NDTV.com\""
      ]
     },
     "execution_count": 27,
     "metadata": {},
     "output_type": "execute_result"
    }
   ],
   "source": [
    "soup.title.text"
   ]
  },
  {
   "cell_type": "markdown",
   "metadata": {},
   "source": []
  },
  {
   "cell_type": "markdown",
   "metadata": {},
   "source": []
  },
  {
   "cell_type": "code",
   "execution_count": 29,
   "metadata": {},
   "outputs": [],
   "source": [
    "t = {'tag':'div', 'attrs': {'class':'lisingNews'}}\n",
    "items = {'tag':'div','attrs': {'class' : 'news_Itm'}}\n",
    "title = {'tag':'h2', 'attrs' : {'class' : 'newsHdng'}}\n",
    "deet = {'tag':'span','attrs' : {'class':'posted-by'}}\n",
    "summary = {'tag':'p','attrs': {'class':'newscont'}}"
   ]
  },
  {
   "cell_type": "code",
   "execution_count": 30,
   "metadata": {},
   "outputs": [
    {
     "name": "stdout",
     "output_type": "stream",
     "text": [
      "17 items found\n",
      "Item skipped at index: 3\n",
      "Item skipped at index: 7\n",
      "All items extracted\n",
      "[{'title': 'AILET 2023: Application Process To Start Tomorrow; Details Here'},\n",
      " {'title': 'Video: Lexus, Bentley, BMW... In Upscale Bengaluru, Cars, Houses '\n",
      "           'Worth Crores Submerged'},\n",
      " {'title': 'Nitish Kumar \"Betrayed\" His Socialist Roots, Says Former Minister'},\n",
      " {'title': 'Nutritionist-Approved Food Items Can Help You Tackling Hair '\n",
      "           'Problems'},\n",
      " {'title': \"Stones, Lathi, Firing: Army Aspirants Clash In Madhya Pradesh's \"\n",
      "           'Morena'},\n",
      " {'title': \"NASA's Juno Mission Captures Jupiter's Complex Swirling Colours\"},\n",
      " {'title': 'Apple Watch Pro to Get Exclusive Bands, Faces; New Affordable '\n",
      "           'Model Tipped'},\n",
      " {'title': \"What Is The Whole30 Diet? Here's Everything You Need To Know\"},\n",
      " {'title': 'Man Stabs Wife For Not Making Biryani For Dinner: Mumbai Police'},\n",
      " {'title': 'Apple iPhone 14 Pro Tipped to Pack Larger Camera Lenses Than '\n",
      "           'iPhone 13 Pro, Case Colours Leak Online'},\n",
      " {'title': 'Pizza Baked Potato Recipe: Pizza Meets Baked Potatoes In This '\n",
      "           'Crunchy And Cheesy Snack'},\n",
      " {'title': 'Liz Truss Appointed As UK PM At Audience With Queen'},\n",
      " {'title': \"Athiya And KL Rahul Are All Hearts For Suniel Shetty's Pic With \"\n",
      "           'Son Ahan'},\n",
      " {'title': 'New In Kitchen? This Pulao Recipe In A Kettle Comes To Your '\n",
      "           'Rescue'},\n",
      " {'title': \"UP Police Busts Rs 15 Crore 'Currency Trading' Fraud, 1 Arrested: \"\n",
      "           'Cops'}]\n"
     ]
    }
   ],
   "source": [
    "result = scrape.extract_many(soup, target=t, items=items, title=title)\n",
    "from pprint import pprint\n",
    "pprint(result)"
   ]
  }
 ],
 "metadata": {
  "kernelspec": {
   "display_name": "Python 3.9.12 ('base')",
   "language": "python",
   "name": "python3"
  },
  "language_info": {
   "codemirror_mode": {
    "name": "ipython",
    "version": 3
   },
   "file_extension": ".py",
   "mimetype": "text/x-python",
   "name": "python",
   "nbconvert_exporter": "python",
   "pygments_lexer": "ipython3",
   "version": "3.9.12"
  },
  "orig_nbformat": 4,
  "vscode": {
   "interpreter": {
    "hash": "19d1d53a962d236aa061289c2ac16dc8e6d9648c89fe79f459ae9a3493bc67b4"
   }
  }
 },
 "nbformat": 4,
 "nbformat_minor": 2
}
