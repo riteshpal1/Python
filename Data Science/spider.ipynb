{
 "cells": [
  {
   "cell_type": "code",
   "execution_count": 1,
   "metadata": {},
   "outputs": [],
   "source": [
    "from dputils import scrape"
   ]
  },
  {
   "cell_type": "code",
   "execution_count": 2,
   "metadata": {},
   "outputs": [],
   "source": [
    "soup = scrape.get_webpage_data('https://www.ndtv.com/latest')"
   ]
  },
  {
   "cell_type": "markdown",
   "metadata": {},
   "source": [
    "# To Check the title with tag."
   ]
  },
  {
   "cell_type": "code",
   "execution_count": 3,
   "metadata": {},
   "outputs": [
    {
     "data": {
      "text/plain": [
       "<title>Latest News: Today's big news headlines from India and around the world - NDTV.com</title>"
      ]
     },
     "execution_count": 3,
     "metadata": {},
     "output_type": "execute_result"
    }
   ],
   "source": [
    "soup.title"
   ]
  },
  {
   "cell_type": "markdown",
   "metadata": {},
   "source": [
    "# To Check the title without tag."
   ]
  },
  {
   "cell_type": "code",
   "execution_count": 4,
   "metadata": {},
   "outputs": [
    {
     "data": {
      "text/plain": [
       "\"Latest News: Today's big news headlines from India and around the world - NDTV.com\""
      ]
     },
     "execution_count": 4,
     "metadata": {},
     "output_type": "execute_result"
    }
   ],
   "source": [
    "soup.title.text"
   ]
  },
  {
   "cell_type": "code",
   "execution_count": 5,
   "metadata": {},
   "outputs": [],
   "source": [
    "t = {'tag':'div', 'attrs': {'class':'lisingNews'}}\n",
    "items = {'tag':'div','attrs': {'class' : 'news_Itm'}}\n",
    "title = {'tag':'h2', 'attrs' : {'class' : 'newsHdng'}}\n",
    "deet = {'tag':'span','attrs' : {'class':'posted-by'}}\n",
    "summary = {'tag':'p','attrs': {'class':'newscont'}}"
   ]
  },
  {
   "cell_type": "code",
   "execution_count": 6,
   "metadata": {},
   "outputs": [
    {
     "name": "stdout",
     "output_type": "stream",
     "text": [
      "17 items found\n",
      "Item skipped at index: 3\n",
      "Item skipped at index: 7\n",
      "All items extracted\n",
      "[{'title': 'Irfan Pathan Suggests India Playing XI For T20 World Cup, Omits '\n",
      "           'Young Star'},\n",
      " {'title': \"London's Heathrow Airport Restricts Flights To Ensure Silence \"\n",
      "           \"During Queen's Procession\"},\n",
      " {'title': 'Video: Labourer Sets Rs 1 Crore Mercedes On Fire In Noida Over '\n",
      "           'Wage Dispute'},\n",
      " {'title': 'JEE Advanced 2022 Result: CRL 3 Thomas Biju Cheeramvelil Of Kerala '\n",
      "           'Aspires To Do CSE From IIT Bombay'},\n",
      " {'title': 'iPhone 14 Series Price, Offers on Amazon, Flipkart, Croma, and '\n",
      "           'Reliance Digital'},\n",
      " {'title': 'As Gujarat Gets $20 Billion Chip Factory, Maharashtra Minister '\n",
      "           \"Talks Of PM's Assurance\"},\n",
      " {'title': \"Queen Elizabeth's Funeral: These Are The People Expected To Be In \"\n",
      "           'Attendance'},\n",
      " {'title': 'Delectable Food And Drinks Meet Soulful Jazz Music At The Piano '\n",
      "           'Man'},\n",
      " {'title': 'Real Estate Major Hiranandani Launches NFTs, Sales to Fund '\n",
      "           'Engineering Students in Need'},\n",
      " {'title': 'Jogi Release Date and Time, Cast, Review, Trailer, and More'},\n",
      " {'title': 'Passengers Injured, Smoke On Air India Express Spotted By Another '\n",
      "           'Plane'},\n",
      " {'title': 'Healthy Food Need Not Be Expensive Always. Here Are 5 Nutritious '\n",
      "           'Budget-Friendly Foods'},\n",
      " {'title': \"The Crown Producers Resume Shoot Days After Queen's Death\"},\n",
      " {'title': 'IBM India Joins Chorus On Moonlighting; Calls It Unethical'},\n",
      " {'title': 'Varun Dhawan Partied With Khushi Kapoor, Varun Sharma And Other '\n",
      "           'Friends. See Pics'}]\n"
     ]
    }
   ],
   "source": [
    "result = scrape.extract_many(soup, target=t, items=items, title=title)\n",
    "from pprint import pprint\n",
    "pprint(result)"
   ]
  }
 ],
 "metadata": {
  "kernelspec": {
   "display_name": "Python 3.9.12 ('base')",
   "language": "python",
   "name": "python3"
  },
  "language_info": {
   "codemirror_mode": {
    "name": "ipython",
    "version": 3
   },
   "file_extension": ".py",
   "mimetype": "text/x-python",
   "name": "python",
   "nbconvert_exporter": "python",
   "pygments_lexer": "ipython3",
   "version": "3.9.12"
  },
  "orig_nbformat": 4,
  "vscode": {
   "interpreter": {
    "hash": "19d1d53a962d236aa061289c2ac16dc8e6d9648c89fe79f459ae9a3493bc67b4"
   }
  }
 },
 "nbformat": 4,
 "nbformat_minor": 2
}
