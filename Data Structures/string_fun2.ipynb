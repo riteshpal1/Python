{
 "cells": [
  {
   "cell_type": "code",
   "execution_count": 26,
   "metadata": {},
   "outputs": [
    {
     "name": "stdout",
     "output_type": "stream",
     "text": [
      "total chars in the story: 707\n"
     ]
    }
   ],
   "source": [
    "from data import story\n",
    "\n",
    "print(f\"total chars in the story: {len(story)}\")"
   ]
  },
  {
   "cell_type": "markdown",
   "metadata": {},
   "source": [
    "\n",
    "# counting substrings in a large string"
   ]
  },
  {
   "cell_type": "code",
   "execution_count": 27,
   "metadata": {},
   "outputs": [
    {
     "name": "stdout",
     "output_type": "stream",
     "text": [
      "a occurs 45 times.\n",
      "the occurs 5 times\n"
     ]
    }
   ],
   "source": [
    "\n",
    "a_count = story.count('a')\n",
    "print(f'a occurs {a_count} times.')\n",
    "the_count = story.lower().count('the')\n",
    "print(f'the occurs {the_count} times')"
   ]
  },
  {
   "cell_type": "markdown",
   "metadata": {},
   "source": [
    "\n",
    "# replace data"
   ]
  },
  {
   "cell_type": "code",
   "execution_count": 28,
   "metadata": {},
   "outputs": [
    {
     "name": "stdout",
     "output_type": "stream",
     "text": [
      "Brandon Sanderson (Lincoln, Nebraska, December 19, 1975). Is an American\n",
      "fantasy and science fiction writer. He is best known for his Mistborn series\n",
      "and his work in finishing Robert Jordans epic fantasy series The Wheel on\n",
      "Time. In 2010, Sanderson published The Way on Kings, the first on a ten-book\n",
      "series called The Stormlight Archive.\n",
      "Sanderson worked as an editor for the semi-pronessional magazine Leading\n",
      "Edge while attending school at Brigham Young University, where he now\n",
      "periodically teaches creative writing. In 2008 Sanderson started a podcast\n",
      "with author Dan Wells and cartoonist Howard Tayler called Writing Excuses,\n",
      "involving topics about creating and producing genre writing and webcomics.\n",
      "\n"
     ]
    }
   ],
   "source": [
    "\n",
    "ustory = story.replace('of','on')\n",
    "print(ustory)"
   ]
  },
  {
   "cell_type": "markdown",
   "metadata": {},
   "source": [
    "# removing data"
   ]
  },
  {
   "cell_type": "code",
   "execution_count": 29,
   "metadata": {},
   "outputs": [
    {
     "name": "stdout",
     "output_type": "stream",
     "text": [
      "Brandon Sanderson (Lincoln, Nebraska, December 19, 1975). Is an American\n",
      "fantasy and science fiction writer. He is best known for his Mistborn series\n",
      "and his work in finishing Robert Jordans epic fantasy series The Wheel \n",
      "Time. In 2010, Sanderson published The Way  Kings, the first  a ten-book\n",
      "series called The Stormlight Archive.\n",
      "Sanderson worked as an editor for the semi-pressional magazine Leading\n",
      "Edge while attending school at Brigham Young University, where he now\n",
      "periodically teaches creative writing. In 2008 Sanderson started a podcast\n",
      "with author Dan Wells and cartoonist Howard Tayler called Writing Excuses,\n",
      "involving topics about creating and producing genre writing and webcomics.\n",
      "\n"
     ]
    }
   ],
   "source": [
    "ustory = story.replace('of','')\n",
    "print(ustory)"
   ]
  },
  {
   "cell_type": "markdown",
   "metadata": {},
   "source": [
    "\n",
    "# removing all vowels"
   ]
  },
  {
   "cell_type": "code",
   "execution_count": 30,
   "metadata": {},
   "outputs": [
    {
     "name": "stdout",
     "output_type": "stream",
     "text": [
      "Brndn Sndrsn (Lncln, Nbrsk, Dcmbr 19, 1975). Is n Amrcn\n",
      "fntsy nd scnc fctn wrtr. H s bst knwn fr hs Mstbrn srs\n",
      "nd hs wrk n fnshng Rbrt Jrdns pc fntsy srs Th Whl f\n",
      "Tm. In 2010, Sndrsn pblshd Th Wy f Kngs, th frst f  tn-bk\n",
      "srs clld Th Strmlght Archv.\n",
      "Sndrsn wrkd s n dtr fr th sm-prfssnl mgzn Ldng\n",
      "Edg whl ttndng schl t Brghm Yng Unvrsty, whr h nw\n",
      "prdclly tchs crtv wrtng. In 2008 Sndrsn strtd  pdcst\n",
      "wth thr Dn Wlls nd crtnst Hwrd Tylr clld Wrtng Excss,\n",
      "nvlvng tpcs bt crtng nd prdcng gnr wrtng nd wbcmcs.\n",
      "\n"
     ]
    }
   ],
   "source": [
    "no_vowel_story = story.replace('a','').replace('e','').replace('i','').replace('o','').replace('u','')\n",
    "print(no_vowel_story)"
   ]
  },
  {
   "cell_type": "markdown",
   "metadata": {},
   "source": [
    "# retaining all vowels "
   ]
  },
  {
   "cell_type": "code",
   "execution_count": 31,
   "metadata": {},
   "outputs": [
    {
     "name": "stdout",
     "output_type": "stream",
     "text": [
      "ao aeo io eaa eee   I a Aeiaaa a iee iio ie e i e o o i io eiea i o i iii oe oa ei aa eie e ee oie I  aeo uie e a o i e i o a eooeie ae e oi Aieaeo oe a a eio o e eioeioa aaie eaiEe ie aei oo a ia ou Uiei ee e oeioia eae eaie ii I  aeo ae a oai auo a e a aooi oa ae ae ii Eueioi oi aou eai a oui ee ii a eoi\n"
     ]
    }
   ],
   "source": [
    "only_vowel_story = ''\n",
    "for char in story:\n",
    "  if char in 'aeiouAEIOU ':\n",
    "    only_vowel_story +=char\n",
    "print(only_vowel_story)"
   ]
  },
  {
   "cell_type": "code",
   "execution_count": null,
   "metadata": {},
   "outputs": [],
   "source": []
  }
 ],
 "metadata": {
  "language_info": {
   "name": "python"
  },
  "orig_nbformat": 4
 },
 "nbformat": 4,
 "nbformat_minor": 2
}
