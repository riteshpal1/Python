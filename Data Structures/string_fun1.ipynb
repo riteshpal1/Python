{
 "cells": [
  {
   "cell_type": "code",
   "execution_count": 4,
   "metadata": {},
   "outputs": [],
   "source": [
    "name = \"something serious\""
   ]
  },
  {
   "cell_type": "markdown",
   "metadata": {},
   "source": [
    "# Formatting function"
   ]
  },
  {
   "cell_type": "code",
   "execution_count": 8,
   "metadata": {},
   "outputs": [
    {
     "name": "stdout",
     "output_type": "stream",
     "text": [
      "SOMETHING SERIOUS\n",
      "something serious\n",
      "Something serious\n",
      "Something Serious\n",
      "SOMETHING SERIOUS\n",
      "something serious\n"
     ]
    }
   ],
   "source": [
    "print(name.upper() )\n",
    "print(name.lower())\n",
    "print(name.capitalize())\n",
    "print(name.title())\n",
    "print(name.swapcase())\n",
    "print(name.casefold())"
   ]
  },
  {
   "cell_type": "markdown",
   "metadata": {},
   "source": [
    "# Alignment"
   ]
  },
  {
   "cell_type": "code",
   "execution_count": 14,
   "metadata": {},
   "outputs": [
    {
     "name": "stdout",
     "output_type": "stream",
     "text": [
      "python                                                                          \n",
      "                                                                          python\n",
      "                                     python                                     \n",
      "python--------------------------------------------------------------------------\n",
      "python$$$$$$$$$$$$$$$$$$$$$$$$$$$$$$$$$$$$$$$$$$$$$$$$$$$$$$$$$$$$$$$$$$$$$$$$$$\n",
      "python~~~~~~~~~~~~~~~~~~~~~~~~~~~~~~~~~~~~~~~~~~~~~~~~~~~~~~~~~~~~~~~~~~~~~~~~~~\n"
     ]
    }
   ],
   "source": [
    "word = \"python\"\n",
    "#left Alignment\n",
    "print( word.ljust(80))\n",
    "\n",
    "# right alignment\n",
    "print( word.rjust(80))\n",
    "\n",
    "\n",
    "# center Alignment\n",
    "print( word.center(80))\n",
    "\n",
    "#Fillchar Examples\n",
    "print( word.ljust(80,'-') )\n",
    "print( word.ljust(80,'$') )\n",
    "print( word.ljust(80,'~') )"
   ]
  },
  {
   "cell_type": "markdown",
   "metadata": {},
   "source": [
    "# Printing a formatted table of 3\n"
   ]
  },
  {
   "cell_type": "code",
   "execution_count": 16,
   "metadata": {},
   "outputs": [
    {
     "name": "stdout",
     "output_type": "stream",
     "text": [
      "----------------------------------------\n",
      "3 x  1 = 3\n",
      "3 x  2 = 9\n",
      "3 x  3 = 27\n",
      "3 x  4 = 81\n",
      "3 x  5 = 243\n",
      "3 x  6 = 729\n",
      "3 x  7 = 2187\n",
      "3 x  8 = 6561\n",
      "3 x  9 = 19683\n",
      "3 x 10 = 59049\n"
     ]
    }
   ],
   "source": [
    "print('-'*40)\n",
    "for i in range(1,11):\n",
    "  r = 3 ** i\n",
    "  print(3,'x',str(i).rjust(2),'=',r)"
   ]
  }
 ],
 "metadata": {
  "kernelspec": {
   "display_name": "Python 3.9.12 ('base')",
   "language": "python",
   "name": "python3"
  },
  "language_info": {
   "codemirror_mode": {
    "name": "ipython",
    "version": 3
   },
   "file_extension": ".py",
   "mimetype": "text/x-python",
   "name": "python",
   "nbconvert_exporter": "python",
   "pygments_lexer": "ipython3",
   "version": "3.9.12"
  },
  "orig_nbformat": 4,
  "vscode": {
   "interpreter": {
    "hash": "19d1d53a962d236aa061289c2ac16dc8e6d9648c89fe79f459ae9a3493bc67b4"
   }
  }
 },
 "nbformat": 4,
 "nbformat_minor": 2
}
