{
 "cells": [
  {
   "cell_type": "code",
   "execution_count": 1,
   "metadata": {},
   "outputs": [
    {
     "name": "stdout",
     "output_type": "stream",
     "text": [
      "Aman \n",
      "man Pal\n",
      "\n",
      "Aa a\n",
      "mnPl\n",
      "laP namA\n",
      "Aman Pal\n",
      "Al\n"
     ]
    }
   ],
   "source": [
    "name = \"Aman Pal\"\n",
    "\n",
    "#Firstname\n",
    "\n",
    "firstname = name[ : 5]\n",
    "print(firstname)\n",
    "lastname = name[-7: ]\n",
    "print(lastname) \n",
    "middlename =  name[6:-8]\n",
    "print(middlename)\n",
    "even_index = name[ : : 2]\n",
    "print(even_index)\n",
    "odd_index = name[1: :2]\n",
    "print(odd_index)\n",
    "\n",
    "# reversing a sequance with slicing\n",
    "reversed_name =name[ : :-1]\n",
    "print(reversed_name)\n",
    "print(name[ :])    #wont affect\n",
    "print(name[ : :-7][ :7][ : :-1])"
   ]
  },
  {
   "cell_type": "code",
   "execution_count": null,
   "metadata": {},
   "outputs": [],
   "source": []
  }
 ],
 "metadata": {
  "kernelspec": {
   "display_name": "Python 3.9.12 ('base')",
   "language": "python",
   "name": "python3"
  },
  "language_info": {
   "codemirror_mode": {
    "name": "ipython",
    "version": 3
   },
   "file_extension": ".py",
   "mimetype": "text/x-python",
   "name": "python",
   "nbconvert_exporter": "python",
   "pygments_lexer": "ipython3",
   "version": "3.9.12"
  },
  "orig_nbformat": 4,
  "vscode": {
   "interpreter": {
    "hash": "19d1d53a962d236aa061289c2ac16dc8e6d9648c89fe79f459ae9a3493bc67b4"
   }
  }
 },
 "nbformat": 4,
 "nbformat_minor": 2
}
