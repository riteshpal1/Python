{
 "cells": [
  {
   "cell_type": "code",
   "execution_count": 2,
   "metadata": {},
   "outputs": [
    {
     "name": "stdout",
     "output_type": "stream",
     "text": [
      "[12, 5, 64, 5, 34, 2, 3]\n",
      "[144, 25, 4096, 25, 1156, 4, 9]\n",
      "[14, 8, 69, 11, 41, 9, 5]\n"
     ]
    }
   ],
   "source": [
    "x = [12,5,64,5,34,2,3]\n",
    "x2 = [i ** 2 for i in x]\n",
    "print(x)\n",
    "print(x2)\n",
    "y = [2,3,5,6,7,7,2]\n",
    "\n",
    "z = [i + j for i,j in zip(x,y)]\n",
    "print(z)"
   ]
  },
  {
   "cell_type": "code",
   "execution_count": null,
   "metadata": {},
   "outputs": [],
   "source": []
  }
 ],
 "metadata": {
  "kernelspec": {
   "display_name": "Python 3.9.12 ('base')",
   "language": "python",
   "name": "python3"
  },
  "language_info": {
   "codemirror_mode": {
    "name": "ipython",
    "version": 3
   },
   "file_extension": ".py",
   "mimetype": "text/x-python",
   "name": "python",
   "nbconvert_exporter": "python",
   "pygments_lexer": "ipython3",
   "version": "3.9.12"
  },
  "orig_nbformat": 4,
  "vscode": {
   "interpreter": {
    "hash": "19d1d53a962d236aa061289c2ac16dc8e6d9648c89fe79f459ae9a3493bc67b4"
   }
  }
 },
 "nbformat": 4,
 "nbformat_minor": 2
}
