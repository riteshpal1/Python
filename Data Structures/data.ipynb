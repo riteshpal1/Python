{
 "cells": [
  {
   "cell_type": "code",
   "execution_count": 3,
   "metadata": {},
   "outputs": [],
   "source": []
  },
  {
   "cell_type": "code",
   "execution_count": 4,
   "metadata": {},
   "outputs": [
    {
     "name": "stdout",
     "output_type": "stream",
     "text": [
      "Brandon Sanderson (Lincoln, Nebraska, December 19, 1975). Is an American\n",
      "fantasy and science fiction writer. He is best known for his Mistborn series\n",
      "and his work in finishing Robert Jordans epic fantasy series The Wheel of\n",
      "Time. In 2010, Sanderson published The Way of Kings, the first of a ten-book\n",
      "series called The Stormlight Archive.\n",
      "Sanderson worked as an editor for the semi-professional magazine Leading\n",
      "Edge while attending school at Brigham Young University, where he now\n",
      "periodically teaches creative writing. In 2008 Sanderson started a podcast\n",
      "with author Dan Wells and cartoonist Howard Tayler called Writing Excuses,\n",
      "involving topics about creating and producing genre writing and webcomics.\n",
      "\n"
     ]
    }
   ],
   "source": [
    "print(story)"
   ]
  }
 ],
 "metadata": {
  "language_info": {
   "name": "python"
  },
  "orig_nbformat": 4
 },
 "nbformat": 4,
 "nbformat_minor": 2
}
